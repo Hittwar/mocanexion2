{
 "cells": [
  {
   "cell_type": "code",
   "execution_count": 3,
   "metadata": {},
   "outputs": [
    {
     "name": "stdout",
     "output_type": "stream",
     "text": [
      "Collecting pypi\n",
      "  Using cached pypi-2.1.tar.gz (997 bytes)\n",
      "Building wheels for collected packages: pypi\n",
      "  Building wheel for pypi (setup.py): started\n",
      "  Building wheel for pypi (setup.py): finished with status 'done'\n",
      "  Created wheel for pypi: filename=pypi-2.1-py3-none-any.whl size=1359 sha256=29a81ce23ffb469aaaf03427f3f0166c44a33ba578b4d46447b16d12d59b6f72\n",
      "  Stored in directory: c:\\users\\jorge.polanco\\appdata\\local\\pip\\cache\\wheels\\9d\\58\\40\\27b525c0b051491cabddd0157355cd3365dfafe2e83618baa6\n",
      "Successfully built pypi\n",
      "Installing collected packages: pypi\n",
      "Successfully installed pypi-2.1\n",
      "Note: you may need to restart the kernel to use updated packages.\n"
     ]
    }
   ],
   "source": [
    "pip install pypi"
   ]
  },
  {
   "cell_type": "code",
   "execution_count": 4,
   "metadata": {},
   "outputs": [
    {
     "ename": "SyntaxError",
     "evalue": "invalid syntax (<ipython-input-4-efc5404f64bc>, line 1)",
     "output_type": "error",
     "traceback": [
      "\u001b[1;36m  File \u001b[1;32m\"<ipython-input-4-efc5404f64bc>\"\u001b[1;36m, line \u001b[1;32m1\u001b[0m\n\u001b[1;33m    python setup.py register -r pypi\u001b[0m\n\u001b[1;37m               ^\u001b[0m\n\u001b[1;31mSyntaxError\u001b[0m\u001b[1;31m:\u001b[0m invalid syntax\n"
     ]
    }
   ],
   "source": [
    "python setup.py register -r pypi"
   ]
  }
 ],
 "metadata": {
  "kernelspec": {
   "display_name": "Python 3",
   "language": "python",
   "name": "python3"
  },
  "language_info": {
   "codemirror_mode": {
    "name": "ipython",
    "version": 3
   },
   "file_extension": ".py",
   "mimetype": "text/x-python",
   "name": "python",
   "nbconvert_exporter": "python",
   "pygments_lexer": "ipython3",
   "version": "3.7.6"
  }
 },
 "nbformat": 4,
 "nbformat_minor": 4
}
